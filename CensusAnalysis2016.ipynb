{
 "cells": [
  {
   "cell_type": "markdown",
   "id": "dd6f52d7",
   "metadata": {},
   "source": [
    "<h1><center><u>STAT40800 Data Programming with Python (online) </u></center></h1>\n",
    "<h2><center><u> Data Analysis Project </u> </center></h2>\n",
    "<h3><center> Autumn 2021/22</center></h3>"
   ]
  },
  {
   "cell_type": "markdown",
   "id": "e9e19b2d",
   "metadata": {},
   "source": [
    "<h3> 1 &emsp; ABSTRACT    </h3>\n",
    "<p> This data analysis project aims at studying y the 2016 Irish Census data. The census is a detailed account\n",
    "of every person living in Ireland. A census is carried out every 5 years by the Central Statistics Office (CSO).The aim of this project is to analyze the themes in this data and try to identify trends or patterns within the data and do some inference </p>\n",
    "<p> For this Project, Three themes were considered. They were <b>Theme 1: Sex, Age and Marital Status ,Theme 2: Principal Status ,Theme 3: Education </b> at the level of county. An extensive literature review was done to identify and emphasize on variables that could act as a good predictor for the Unemployment factor present in each county.The most important variables to include in a simple linear regression model were identified and were then used to build the regression model. Based on the predictions done by the model, The best feature was chosen after extensive validation. </p>"
   ]
  },
  {
   "cell_type": "markdown",
   "id": "e2ced24d",
   "metadata": {},
   "source": [
    "<h3> 2 &emsp; INTRODUCTION    </h3>\n",
    "<p> The Central Statistics Office (CSO) is in charge of collecting, collating, analyzing, and sharing statistical data on Ireland's population and economy. The Republic of Ireland's Census 2016 was held on Sunday, April 24, 2016, to administer a national census. The Central Statistics Office (CSO) conducted the census, which revealed a total population of 4,761,865, up 3.8 percent from the previous census in 2011.This was the lowest recorded population growth rate since the 1991 census, with lower birth rates and reduced net migration contributing to the drop in population growth rates.Between April and December 2017, the census results were gradually issued in a series of reports organized as summaries or in-depth results of certain themes such as age, race, or religion.</p>\n",
    "\n",
    "<p>The census of population is a detailed count of every person living in Ireland on a particular date.The population of the state is determined by the census. It also assists the government in planning how it will provide public services to the state's citizens.Age, marital status, sex, place of birth, occupation, and religion are among the inquiries on the form. The data is then utilized to plan infrastructure for public transportation, healthcare, housing, and education. Census data is used by local governments to forecast demand for their services and facilities. </p>\n",
    "\n",
    "<p> The census data is broken down into 15 themes namely Theme 1: Sex, age and marital status,Theme 2: Migration, ethnicity, religion and foreign languages,Theme 3: Irish language,Theme 4: Families,Theme 5: Private households,Theme 6: Housing,Theme 7: Communal establishments,Theme 8: Principal status,Theme 9: Social class and socio-economic group,Theme 10: Education,Theme 11: Commuting,Theme 12: Disability, carers and general health,Theme 13: Occupations,Theme 14: Industries,Theme 15: Motor car availability, PC ownership and internet access. These themes are further classified into many tables which explain the characteristics of the county based on the data. The themes that are chosen for this project are <b>Theme 1: Sex, Age and Marital Status ,Theme 2: Principal Status ,Theme 3: Education </b>.These themes consisted tables with information regarding age and gender-wise distribution, principal status and education status of each individual in county.</p>\n",
    "        \n",
    "<p> For theme 1, there were 105 columns describing how total number of people in a county is distributed across all age groups and gender. This was very intuitive as it helped to understand the composition of male and female in a county. This provided us information like what proportion of people belonged to a certain age group. Using this, in the project , there was some analysis done the male female composition, categorisation of people based on age like children, youth,teenager,young adults,middle age, old age. Using this, the proportion of people who are at the right age to be employed was determined which was opted as a feature indicator to predict the unemployment in each county.</p>\n",
    "\n",
    "<p> For theme 2, There were 27 columns which described the status of the people like whether are unemployed, or whether they are looking for their first job, where they are students, whether they are disabled, whether they are looking after their family and so on. These were again categorised into male and female to make it the gender distribution among statuses clear. But for this project, the main concern was to predict the unemployment count per county. For this, only two data was considered from the theme, they were <i>'Looking for first job'</i> and <i>'Unemployed having lost or given up previous job' </i> . The rest deemed unnecessary as they clearly didn't portray the meaning of unemployment.</p>\n",
    "\n",
    "<p> For theme 3, there were three tables describing the Education status of the individuals. They described whether the individual has completed his/her education, whether it is in progress and the field of study of the individual. This was described using 110 feature vectors. But for this project, Total no of individuals who have completed studying or still studying was demmed sufficient to act as predictor variables for unemployment count per county. </p>\n",
    "\n",
    "<p> This project will begin by doing an Explorative Data Analysis on the given dataset and try to find and filter the neccessary feature and group them into meaningful tables. Then there will analysis on the distribution of these selected variable.<b>This report will aim to find the best possible predictor variable which can be used to predict the unemployment count in the county.</b> The main aim is to try build a linear relationship between the total unemployement and any of the feature like education or age . This is verified using various methodologies in this report. The finding and conclusions are presented below in the report. </p>"
   ]
  },
  {
   "cell_type": "markdown",
   "id": "38103c9e",
   "metadata": {},
   "source": [
    "<h3>3  &emsp; RESULTS AND DISCUSSION</h3>\n",
    "<h3> 3.1 &ensp; Install Packages </h3>"
   ]
  },
  {
   "cell_type": "markdown",
   "id": "8b147272",
   "metadata": {},
   "source": [
    "Import the necessary packages needed for this project. I have imported 'warning' and set filterwarnings to ignore. This is to ignore the warning raised by seaborn package for distplot. This is done just to make the report more attractive and in no way affects the execution of the code."
   ]
  },
  {
   "cell_type": "code",
   "execution_count": null,
   "id": "3e5c729b",
   "metadata": {},
   "outputs": [],
   "source": [
    "import pandas as pd\n",
    "import numpy as np\n",
    "import seaborn as sns\n",
    "import matplotlib.pyplot as plt\n",
    "from scipy.stats import pearsonr\n",
    "import statsmodels.api as sm\n",
    "from sklearn import metrics\n",
    "from sklearn.model_selection import train_test_split\n",
    "from sklearn.linear_model import LinearRegression\n",
    "import scipy.stats as stats\n",
    "from sklearn.cluster import KMeans\n",
    "import warnings\n",
    "warnings.filterwarnings('ignore')"
   ]
  },
  {
   "cell_type": "markdown",
   "id": "5c66e96c",
   "metadata": {},
   "source": [
    "<h3> 3.2 &ensp; Import Census Data </h3>\n",
    "<p> I imported the <i>Census_by_county.csv </i> and created a dataframe by name census_data which contains all features. This will act as the base dataframe for our further investigation. I have defined a lambda function which does a simple preprocessing step of replacing the comma in the dataframe. I have done a small check for missing values for confirmation before proceeding with our further analysis.</p>\n",
    "\n",
    "<b> NB: Census_by_county.csv should be in the same directory </b>"
   ]
  },
  {
   "cell_type": "code",
   "execution_count": null,
   "id": "57dcba51",
   "metadata": {},
   "outputs": [],
   "source": [
    "#import the census_by_county dataset provided for the year 2016\n",
    "census_data= pd.read_csv('Census_by_county.csv')\n",
    "\n",
    "#defining a preprocessing step using lambda function to remove comma and use this to dataframe by map function\n",
    "prep = lambda x: str(x.replace(',',''))\n",
    "\n",
    "#check for missing values in the census_data\n",
    "census_data.isnull().sum()"
   ]
  },
  {
   "cell_type": "markdown",
   "id": "95894e6f",
   "metadata": {},
   "source": [
    "<h3> 3.3 &ensp; Gender Distribution In County </h3>\n",
    "<br></br>\n",
    "Using the census_data, i created a dataframe for gender wise distribution in county . This data frame also included the total population and male female ratio in county which was computed from the given data."
   ]
  },
  {
   "cell_type": "code",
   "execution_count": null,
   "id": "e16f28fd",
   "metadata": {},
   "outputs": [],
   "source": [
    "#Now create a table gender_county which will have male female composition inside each county\n",
    "gender_county = census_data[['GEOGDESC','T1_1AGETM','T1_1AGETF','T1_1AGETT']]\n",
    "\n",
    "#using prep function for preprocessing\n",
    "gender_county=gender_county.applymap(prep)\n",
    "\n",
    "#converting string to float for population\n",
    "gender_county[['T1_1AGETM','T1_1AGETF','T1_1AGETT']]=gender_county[['T1_1AGETM','T1_1AGETF','T1_1AGETT']].astype(int)\n",
    "\n",
    "#rename the columns in gender_county\n",
    "gender_county = gender_county.rename(columns = {\"GEOGDESC\":\"County_Name\",\"T1_1AGETM\":\"Male_Population\",\"T1_1AGETF\":\"Female_Population\",\"T1_1AGETT\":\"Total_Population\"})\n",
    "\n",
    "#Calculating the Male female Ratio\n",
    "gender_county['Male_Female_Ratio']= (gender_county['Male_Population'] / gender_county['Female_Population'])\n",
    "gender_county"
   ]
  },
  {
   "cell_type": "markdown",
   "id": "831c6808",
   "metadata": {},
   "source": [
    "<br></br>\n",
    "I developed a plot to get a overview of male vs female population in each county. We can see that the female population is consistenly greater than or equal to male population in the every county. Though, the difference is in few thousands, it is clearly visible in the given plot. Female population dominates male in each of the county.\n",
    "<br></br>"
   ]
  },
  {
   "cell_type": "code",
   "execution_count": null,
   "id": "08b5d251",
   "metadata": {},
   "outputs": [],
   "source": [
    "############# Plotting the Gender Wise distribution per county #####################\n",
    "x=np.arange(31)\n",
    "plt.figure(figsize=(13,10))\n",
    "plt.bar(x-0.4,gender_county.Male_Population,width=0.4,color='r')\n",
    "plt.bar(x,gender_county.Female_Population,width=0.4,color='g')\n",
    "plt.xticks(x,gender_county['County_Name'].values,rotation=90)\n",
    "plt.xlabel('Ireland County',fontsize=20)\n",
    "plt.ylabel('Population',fontsize=20)\n",
    "plt.legend(['Male','Female'],fontsize=20)\n",
    "plt.show()"
   ]
  },
  {
   "cell_type": "markdown",
   "id": "41e75401",
   "metadata": {},
   "source": [
    "<br></br>\n",
    "Using the above gender distribution table, I have calculated the total male and female population of the county and also calculated the average male and female population per county. This is done just to check the relationship among these two features. I have showed the relationship among these in terms of total population by plotting a pie chart.\n",
    "<br></br>"
   ]
  },
  {
   "cell_type": "code",
   "execution_count": null,
   "id": "cc76c8b3",
   "metadata": {},
   "outputs": [],
   "source": [
    "#Calculating Total Male Population and Avg male Population per county\n",
    "Total_Male_Ireland =  gender_county['Male_Population'].sum()\n",
    "Avg_Male_County = int(gender_county['Male_Population'].mean())\n",
    "\n",
    "#Calculating Total Female Population and Avg Female Population per county\n",
    "Total_Female_Ireland =  gender_county['Female_Population'].sum()\n",
    "Avg_Female_County = int(gender_county['Female_Population'].mean())\n",
    "\n",
    "#Calculating Total Population of Ireland\n",
    "Total_Pop_Ireland = Total_Male_Ireland + Total_Female_Ireland\n",
    "\n",
    "\n",
    "#Plotting the above data\n",
    "\n",
    "population = [Total_Male_Ireland,Total_Female_Ireland]\n",
    "my_Labels = ['Male Population','Female Population']\n",
    "my_colors = ['red','green']\n",
    "\n",
    "plt.figure(figsize=(7,7))\n",
    "plt.pie(population,labels=my_Labels,autopct='%1.1f%%',colors=my_colors)\n",
    "plt.title('Population Distribution')\n",
    "plt.axis('off')\n",
    "plt.show()"
   ]
  },
  {
   "cell_type": "markdown",
   "id": "0ff01ace",
   "metadata": {},
   "source": [
    "<h3> 3.4 &ensp; Age Wise Distribution In County </h3>\n",
    "<p> I have created two base dataframes for Male and Female which consists of age wise distribution of the entire population in the county. I have preprocessed these data frames using the lambda function which was defined in the earlier part of this report. These data frame consists of all the age groups starting from 0 and they are arranged according to county. </p>\n",
    "<br></br>"
   ]
  },
  {
   "cell_type": "code",
   "execution_count": null,
   "id": "e2e37dc0",
   "metadata": {},
   "outputs": [],
   "source": [
    "#Getting the agewise data from census_data and storing in Male and Female table accordingly\n",
    "Age_Male_Distribution = census_data[['GEOGDESC','T1_1AGE0M','T1_1AGE1M','T1_1AGE2M','T1_1AGE3M','T1_1AGE4M','T1_1AGE5M','T1_1AGE6M','T1_1AGE7M','T1_1AGE8M','T1_1AGE9M','T1_1AGE10M','T1_1AGE11M','T1_1AGE12M','T1_1AGE13M','T1_1AGE14M','T1_1AGE15M','T1_1AGE16M','T1_1AGE17M','T1_1AGE18M','T1_1AGE19M','T1_1AGE20_24M','T1_1AGE25_29M','T1_1AGE30_34M','T1_1AGE35_39M','T1_1AGE40_44M','T1_1AGE45_49M','T1_1AGE50_54M','T1_1AGE55_59M','T1_1AGE60_64M','T1_1AGE65_69M','T1_1AGE70_74M','T1_1AGE75_79M','T1_1AGE80_84M','T1_1AGEGE_85M'\n",
    "]]\n",
    "\n",
    "Age_Male_Distribution=Age_Male_Distribution.applymap(prep)\n",
    "\n",
    "Age_Female_Distribution = census_data[['GEOGDESC','T1_1AGE0F','T1_1AGE1F','T1_1AGE2F','T1_1AGE3F','T1_1AGE4F','T1_1AGE5F','T1_1AGE6F','T1_1AGE7F','T1_1AGE8F','T1_1AGE9F','T1_1AGE10F','T1_1AGE11F','T1_1AGE12F','T1_1AGE13F','T1_1AGE14F','T1_1AGE15F','T1_1AGE16F','T1_1AGE17F','T1_1AGE18F','T1_1AGE19F','T1_1AGE20_24F','T1_1AGE25_29F','T1_1AGE30_34F','T1_1AGE35_39F','T1_1AGE40_44F','T1_1AGE45_49F','T1_1AGE50_54F','T1_1AGE55_59F','T1_1AGE60_64F','T1_1AGE65_69F','T1_1AGE70_74F','T1_1AGE75_79F','T1_1AGE80_84F','T1_1AGEGE_85F'\n",
    "]]\n",
    "\n",
    "Age_Female_Distribution=Age_Female_Distribution.applymap(prep)"
   ]
  },
  {
   "cell_type": "markdown",
   "id": "0f416e7f",
   "metadata": {},
   "source": [
    "<br></br>\n",
    "<p> Using the above two dataframes, I have created a dataframe <i>Age_Gender_Distribution</i> which has the population categories into different age groups. Children is considered as aged between 0 and 16. Teenage is considered as aged between 16 and 19. Youth is considered as aged between 19 and 25. YoungAdult is considered as aged between 25-40. Middle_age is considered as aged between 40 and 70. Old_age is considered as aged between 70 and above. This distribution is divided across male and female.</p>\n",
    "<br></br>"
   ]
  },
  {
   "cell_type": "code",
   "execution_count": null,
   "id": "5cf673b6",
   "metadata": {},
   "outputs": [],
   "source": [
    "#Creating the bins for male and female\n",
    "Age_Gender_Distribution = pd.DataFrame(Age_Male_Distribution['GEOGDESC'])\n",
    "Age_Gender_Distribution = Age_Gender_Distribution.rename(columns={'GEOGDESC':'County_Name'}) \n",
    "\n",
    "\n",
    "#creating children aged between 0-16 for male and females\n",
    "Age_Gender_Distribution['Children_Male'] = Age_Male_Distribution[['T1_1AGE0M','T1_1AGE1M','T1_1AGE2M','T1_1AGE3M','T1_1AGE4M','T1_1AGE5M','T1_1AGE6M','T1_1AGE7M','T1_1AGE8M','T1_1AGE9M','T1_1AGE10M','T1_1AGE11M','T1_1AGE12M','T1_1AGE13M','T1_1AGE14M','T1_1AGE15M']].astype(int).sum(axis=1).values\n",
    "Age_Gender_Distribution['Children_Female'] = Age_Female_Distribution[['T1_1AGE0F','T1_1AGE1F','T1_1AGE2F','T1_1AGE3F','T1_1AGE4F','T1_1AGE5F','T1_1AGE6F','T1_1AGE7F','T1_1AGE8F','T1_1AGE9F','T1_1AGE10F','T1_1AGE11F','T1_1AGE12F','T1_1AGE13F','T1_1AGE14F','T1_1AGE15F']].astype(int).sum(axis=1).values\n",
    "\n",
    "#creating Teenage aged between 16-19 for male and females\n",
    "Age_Gender_Distribution['Teenage_Male'] = Age_Male_Distribution[['T1_1AGE16M','T1_1AGE17M','T1_1AGE18M','T1_1AGE19M']].astype(int).sum(axis=1).values\n",
    "Age_Gender_Distribution['Teenage_Female'] = Age_Female_Distribution[['T1_1AGE16F','T1_1AGE17F','T1_1AGE18F','T1_1AGE19F']].astype(int).sum(axis=1).values\n",
    "\n",
    "#creating Youth aged between 19-25 for male and females\n",
    "Age_Gender_Distribution['Youth_Male'] = Age_Male_Distribution[['T1_1AGE20_24M']].astype(int).sum(axis=1).values\n",
    "Age_Gender_Distribution['Youth_Female'] = Age_Female_Distribution[['T1_1AGE20_24F']].astype(int).sum(axis=1).values\n",
    "\n",
    "#creating young_adults aged between 25-40 for male and females\n",
    "Age_Gender_Distribution['YoungAdults_Male'] = Age_Male_Distribution[['T1_1AGE25_29M','T1_1AGE30_34M','T1_1AGE35_39M']].astype(int).sum(axis=1).values\n",
    "Age_Gender_Distribution['YoungAdults_Female'] = Age_Female_Distribution[['T1_1AGE25_29F','T1_1AGE30_34F','T1_1AGE35_39F']].astype(int).sum(axis=1).values\n",
    "\n",
    "#creating middle_age  between 40-70 for male and females    \n",
    "Age_Gender_Distribution['middle_age_Male'] = Age_Male_Distribution[['T1_1AGE40_44M','T1_1AGE45_49M','T1_1AGE50_54M','T1_1AGE55_59M','T1_1AGE60_64M','T1_1AGE65_69M']].astype(int).sum(axis=1).values\n",
    "Age_Gender_Distribution['middle_age_Female'] = Age_Female_Distribution[['T1_1AGE40_44F','T1_1AGE45_49F','T1_1AGE50_54F','T1_1AGE55_59F','T1_1AGE60_64F','T1_1AGE65_69F']].astype(int).sum(axis=1).values\n",
    "\n",
    "#creating old_age  between 70&above for male and females   \n",
    "Age_Gender_Distribution['old_age_Male'] = Age_Male_Distribution[['T1_1AGE70_74M','T1_1AGE75_79M','T1_1AGE80_84M','T1_1AGEGE_85M']].astype(int).sum(axis=1).values\n",
    "Age_Gender_Distribution['old_age_Female'] = Age_Female_Distribution[['T1_1AGE70_74F','T1_1AGE75_79F','T1_1AGE80_84F','T1_1AGEGE_85F']].astype(int).sum(axis=1).values\n",
    "\n",
    "Age_Gender_Distribution"
   ]
  },
  {
   "cell_type": "markdown",
   "id": "4f4ce369",
   "metadata": {},
   "source": [
    "<br></br>\n",
    "<p> Using the data frame <i>Age_Gender_Distribution</i> ,I calculated the total sum of population in each category specifically for male and female. Then i showed the distribution using a pie chart. I have added the explode feature in the pie chart which separates the category of people whom i assumed to be not part of the working class category.. This has been done seperately for both gender using seperate pie charts. Both are having similar distribution in which majority of it is under the middle age category and nearly 24 % are children i.e aged between 0-16. There is quite a significant amount of population who are young adults aged between 25 and 40. </p>\n",
    "<br></br>"
   ]
  },
  {
   "cell_type": "code",
   "execution_count": null,
   "id": "f80aed6e",
   "metadata": {},
   "outputs": [],
   "source": [
    "# Getting the total no of males for each age category from Age_Gender_Distribution Table \n",
    "children_male_total = Age_Gender_Distribution['Children_Male'].sum(axis=0)\n",
    "teenage_male_total = Age_Gender_Distribution['Teenage_Male'].sum(axis=0)\n",
    "youth_male_total = Age_Gender_Distribution['Youth_Male'].sum(axis=0)\n",
    "young_adults_male_total = Age_Gender_Distribution['YoungAdults_Male'].sum(axis=0)\n",
    "middle_age_male_total = Age_Gender_Distribution['middle_age_Male'].sum(axis=0)\n",
    "old_age_male_total = Age_Gender_Distribution['old_age_Male'].sum(axis=0)\n",
    "\n",
    "#Creating a list of the above data to provide it for pie chard and specifying the labels and explode\n",
    "male_population_distribution = [children_male_total,teenage_male_total,youth_male_total,young_adults_male_total,middle_age_male_total,old_age_male_total]\n",
    "my_Labels = ['Children_Male','Teenage_Male','Youth_Male','YoungAdults_Male','middle_age_Male','old_age_Male']\n",
    "my_explode = (0.2,0,0,0,0,0.3)\n",
    "\n",
    "#Plotting the Male Population Distribution\n",
    "plt.figure(figsize=(7,7))\n",
    "plt.pie(male_population_distribution,labels=my_Labels,autopct='%1.1f%%',startangle=15, shadow = True,explode=my_explode)\n",
    "plt.title('Male Population Distribution')\n",
    "plt.axis('equal')\n",
    "plt.show()"
   ]
  },
  {
   "cell_type": "code",
   "execution_count": null,
   "id": "3b1d21fc",
   "metadata": {},
   "outputs": [],
   "source": [
    "# Getting the total no of females for each age category from Age_Gender_Distribution Table \n",
    "children_female_total = Age_Gender_Distribution['Children_Female'].sum(axis=0)\n",
    "teenage_female_total = Age_Gender_Distribution['Teenage_Female'].sum(axis=0)\n",
    "youth_female_total = Age_Gender_Distribution['Youth_Female'].sum(axis=0)\n",
    "young_adults_female_total = Age_Gender_Distribution['YoungAdults_Female'].sum(axis=0)\n",
    "middle_age_female_total = Age_Gender_Distribution['middle_age_Female'].sum(axis=0)\n",
    "old_age_female_total = Age_Gender_Distribution['old_age_Female'].sum(axis=0)\n",
    "\n",
    "#Creating a list of the above data to provide it for pie chard and specifying the labels and explode\n",
    "female_population_distribution = [children_female_total,teenage_female_total,youth_female_total,young_adults_female_total,middle_age_female_total,old_age_female_total]\n",
    "my_Labels = ['Children_Female','Teenage_Female','Youth_Female','YoungAdults_Female','middle_age_Female','old_age_Female']\n",
    "my_explode = (0.2,0,0,0,0,0.3)\n",
    "\n",
    "#Plotting the Male Population Distribution\n",
    "plt.figure(figsize=(7,7))\n",
    "plt.pie(male_population_distribution,labels=my_Labels,autopct='%1.1f%%',startangle=15, shadow = True,explode=my_explode)\n",
    "plt.title('Female Population Distribution')\n",
    "plt.axis('equal')\n",
    "plt.show()\n"
   ]
  },
  {
   "cell_type": "markdown",
   "id": "495f5568",
   "metadata": {},
   "source": [
    "<br></br>\n",
    "<b>Plotting using Pie Chart </b> \n",
    "<p> Using the above two data, I developed a pie chart discarding the gender distribution. The pie chart was very similar to above ones with very minute differences in the bins.</p>\n",
    "<br></br>"
   ]
  },
  {
   "cell_type": "code",
   "execution_count": null,
   "id": "0e4a2bce",
   "metadata": {},
   "outputs": [],
   "source": [
    "#Calculating the proportion for all types of age group for total population in ireland\n",
    "\n",
    "tot_Children = (Age_Gender_Distribution['Children_Male'].sum() + Age_Gender_Distribution['Children_Female'].sum()) \n",
    "tot_Teenage = (Age_Gender_Distribution['Teenage_Male'].sum() + Age_Gender_Distribution['Teenage_Male'].sum())\n",
    "tot_Youth = (Age_Gender_Distribution['Youth_Male'].sum() + Age_Gender_Distribution['Youth_Female'].sum())\n",
    "tot_YoundAdults = (Age_Gender_Distribution['YoungAdults_Male'].sum() + Age_Gender_Distribution['YoungAdults_Female'].sum())\n",
    "tot_MiddleAge = (Age_Gender_Distribution['middle_age_Male'].sum() + Age_Gender_Distribution['middle_age_Female'].sum())\n",
    "tot_OldAge = (Age_Gender_Distribution['old_age_Male'].sum() + Age_Gender_Distribution['old_age_Female'].sum())\n",
    "\n",
    "\n",
    "#Creating a list of the above data to provide it for pie chard and specifying the labels and explode\n",
    "total_population_distribution = [tot_Children,tot_Teenage,tot_Youth,tot_YoundAdults,tot_MiddleAge,tot_OldAge]\n",
    "my_Labels = ['Children','Teenage','Youth','YoungAdults','middle_age','old_age']\n",
    "my_explode = (0.2,0,0,0,0,0.3)\n",
    "\n",
    "#Plotting the Male Population Distribution\n",
    "plt.figure(figsize=(7,7))\n",
    "plt.pie(total_population_distribution,labels=my_Labels,autopct='%1.1f%%',startangle=15, shadow = True,explode=my_explode)\n",
    "plt.title('Total Population Distribution')\n",
    "plt.axis('equal')\n",
    "plt.show()\n"
   ]
  },
  {
   "cell_type": "markdown",
   "id": "05aa3fed",
   "metadata": {},
   "source": [
    "<h3> 3.4 &ensp; Unemployment Distribution In County </h3>\n",
    "<p> I have created a dataframe <i>unemployment_county </i> which stores the details of the total unemployment categorised by gender in a county. For this, only two data was considered from the <i>census data</i>, they were 'Looking for first job' and 'Unemployed having lost or given up previous job'. According to CSO website, unemployment is considered for these two variable and hence i have used the same. I have stored the male female unemployment ratio as well to get a better idea about the distribution.</p>\n",
    "<br></br>"
   ]
  },
  {
   "cell_type": "code",
   "execution_count": null,
   "id": "e431cda5",
   "metadata": {},
   "outputs": [],
   "source": [
    "############### get unemployment per county #####################################\n",
    "#Temporary dataframe to store the required columns from census data \n",
    "temp_df=census_data[['GEOGDESC','T8_1_LFFJM','T8_1_ULGUPJM','T8_1_LFFJF','T8_1_ULGUPJF','T8_1_LFFJT','T8_1_ULGUPJT']].applymap(prep)\n",
    "temp_df[['T8_1_LFFJM','T8_1_ULGUPJM','T8_1_LFFJF','T8_1_ULGUPJF','T8_1_LFFJT','T8_1_ULGUPJT']] = temp_df[['T8_1_LFFJM','T8_1_ULGUPJM','T8_1_LFFJF','T8_1_ULGUPJF','T8_1_LFFJT','T8_1_ULGUPJT']].astype(int) \n",
    "\n",
    "## Unemployment data per county for male and Female\n",
    "unemployment_county=pd.DataFrame(temp_df['GEOGDESC'])\n",
    "unemployment_county=unemployment_county.rename(columns={'GEOGDESC':'County_Name'})\n",
    "unemployment_county['Male_Unemployed'] = temp_df['T8_1_LFFJM'] + temp_df['T8_1_ULGUPJM']\n",
    "unemployment_county['Female_Unemployed'] = temp_df['T8_1_LFFJF'] + temp_df['T8_1_ULGUPJF']\n",
    "unemployment_county['Total_Unemployed'] = temp_df['T8_1_LFFJT'] + temp_df['T8_1_ULGUPJT']\n",
    "unemployment_county['maleFemale_UnemployedRatio'] = unemployment_county['Male_Unemployed'] / unemployment_county['Female_Unemployed']\n",
    "\n",
    "unemployment_county"
   ]
  },
  {
   "cell_type": "markdown",
   "id": "a39ad699",
   "metadata": {},
   "source": [
    "<br></br>\n",
    "The below plot is to to analyse if there is a significant difference between male and female unemployment so that we can decide if we can use total unemployment as the dependent variable for our analysis. By looking at the plot, we can see that there is difference between the unemployment among male and female but it is not of significant amount. Hence we can consider total unemployment per county as the dependent variable for our regression analysis.\n",
    "<br></br>\n",
    "<br></br>"
   ]
  },
  {
   "cell_type": "code",
   "execution_count": null,
   "id": "85ed0f21",
   "metadata": {},
   "outputs": [],
   "source": [
    "#plotting unemployment distribution in county\n",
    "x=np.arange(31)\n",
    "plt.figure(figsize=(13,10))\n",
    "plt.bar(x-0.4,unemployment_county.Male_Unemployed,width=0.4,color='r')\n",
    "plt.bar(x,unemployment_county.Female_Unemployed,width=0.4,color='g')\n",
    "plt.xticks(x,unemployment_county['County_Name'].values,rotation=90)\n",
    "plt.xlabel('Ireland County',fontsize=20)\n",
    "plt.ylabel('Unemployement Number',fontsize=20)\n",
    "plt.legend(['Male','Female'],fontsize=20)\n",
    "plt.show()"
   ]
  },
  {
   "cell_type": "markdown",
   "id": "b5d45fef",
   "metadata": {},
   "source": [
    "<br></br>\n",
    "<b> Plotting using Bar Plot</b>\n",
    "<p> The above graph is the pictorial representation of the relationship between the unemployment distribution among male and females. From the below table we can see that the mean value between male and female unemployed is almost similar and they vary over a standard deviation of 3937 and 2931 respectively. Looking at this data, if we combine the two to calculate the total unemployed, it will be easier for prediction </p>\n",
    "<br></br>"
   ]
  },
  {
   "cell_type": "code",
   "execution_count": null,
   "id": "34419cc5",
   "metadata": {},
   "outputs": [],
   "source": [
    "####### Analysing the mean and Variance of male vs female   ##############################\n",
    "male_female_Unemployment = unemployment_county[['Male_Unemployed','Female_Unemployed']]\n",
    "male_female_Unemployment.describe()"
   ]
  },
  {
   "cell_type": "markdown",
   "id": "f97337da",
   "metadata": {},
   "source": [
    "<br></br>\n",
    "<b>Plotting using Box Plot to interpret Unemployment Data </b>\n",
    "<p> I have done a box plot for male and female unemployed in each county. Looking at the box plot we can see that there are some outliers for each case. Those are generated because of the unemployment count in <i>Dublin City</i> . But we cannot discard this value because it is a significant value and if discarded it will affect the total unemployment count in the country. So in this case, even if its an outlier, we keep it in the dataset. </p>\n",
    "<br></br>\n",
    "<br></br>"
   ]
  },
  {
   "cell_type": "code",
   "execution_count": null,
   "id": "9126bf74",
   "metadata": {},
   "outputs": [],
   "source": [
    "#box plot\n",
    "plt.figure(figsize=(10,7))\n",
    "sns.boxplot(data=male_female_Unemployment)\n",
    "plt.ylabel('Unemployment Number',fontsize=12)\n",
    "plt.xlabel('Gender Wise Unemployment',fontsize=12)"
   ]
  },
  {
   "cell_type": "markdown",
   "id": "01cfcba3",
   "metadata": {},
   "source": [
    "<br></br>\n",
    "<b> Q-Q Plot to identify Normal Distribution </b>\n",
    "<p> This section is just an exploration of verifying Male female unemployment ratio being a normal distribution. I have made use of quantile-quantile (Q-Q) Plot to determine this. A Q-Q plot compares the observed distribution to the expected normal distribution.For normally distributed data, observations should lie approximately on a straight line. If the data is non-normal, the points form a curve that deviates markedly from a straight line. Possible outliers are points at the ends of the line, distanced from the bulk of the observations. By looking at the plot we can see that all observations lie on the straight line saying it fits the normal distribution.</p>\n",
    "<br></br>"
   ]
  },
  {
   "cell_type": "code",
   "execution_count": null,
   "id": "4b8c6a87",
   "metadata": {},
   "outputs": [],
   "source": [
    "# QQ Plot male:female unemployement ratio\n",
    "plt.figure()\n",
    "stats.probplot(unemployment_county.maleFemale_UnemployedRatio, dist='norm',plot=plt);"
   ]
  },
  {
   "cell_type": "markdown",
   "id": "1d1826f0",
   "metadata": {},
   "source": [
    "<br></br>\n",
    "<b>Useful Analytics </b>\n",
    "<p>There are some specific information about the specific of the unemployment in Ireland. We can see some insights like Total no of unemployed males in Ireland which is 170930 but for females it is 126466. The count does not provide any significant information as we cannot compare to anything. The Percentage of unemployed males in Ireland is 7.25% which is nearly 2% higher than female unemployment percent which 5.25%.The total unemployment percentage of people in ireland is 6.24% .But males provide the main contribution for this percentage."
   ]
  },
  {
   "cell_type": "code",
   "execution_count": null,
   "id": "ebfdbed4",
   "metadata": {},
   "outputs": [],
   "source": [
    "##Calcuating total unemployemt of male and females in Irelnad\n",
    "Total_Unemployed_Males_Ireland = unemployment_county['Male_Unemployed'].sum()\n",
    "Total_Unemployed_Females_Ireland = unemployment_county['Female_Unemployed'].sum()\n",
    "Total_Unemployed_Ireland = unemployment_county['Total_Unemployed'].sum()\n",
    "\n",
    "#Printing the data\n",
    "print(\"Total no of unemployed males in Ireland is\",Total_Unemployed_Males_Ireland)\n",
    "print(\"Total no of unemployed females in Ireland is\",Total_Unemployed_Females_Ireland)\n",
    "print(\"Total no of unemployed people in Ireland is\",Total_Unemployed_Ireland)\n",
    "\n",
    "#Calculating percentage of unemployment\n",
    "Percent_Unemployed_Male = Total_Unemployed_Males_Ireland / Total_Male_Ireland *100\n",
    "Percent_Unemployed_Female = Total_Unemployed_Females_Ireland / Total_Female_Ireland *100\n",
    "Percent_Unemployed = Total_Unemployed_Ireland/Total_Pop_Ireland *100\n",
    "\n",
    "print(\"Percentage of unemployed males in Ireland is\",Percent_Unemployed_Male)\n",
    "print(\"Percentage  of unemployed females in Ireland is\",Percent_Unemployed_Female)\n",
    "print(\"Percentage  of unemployed people in Ireland is\",Percent_Unemployed)\n"
   ]
  },
  {
   "cell_type": "markdown",
   "id": "836d52e6",
   "metadata": {},
   "source": [
    "<h3> 3.5 &ensp; Education Status among the population In County </h3>\n",
    "\n",
    "<p> I have created a DataFrame <i> county_Education </i> which stored the education status of the population in the county. It consists of Two main information. One is total number of people who have completed the education and the other is the total number of people whose education is still in progress.This information is categorized among male and female. The total of these data is also stored as a seperate column per county in this dataframe. </p>\n"
   ]
  },
  {
   "cell_type": "code",
   "execution_count": null,
   "id": "2428d7a7",
   "metadata": {},
   "outputs": [],
   "source": [
    "##################### table per county for Education ######################\n",
    "county_Education = pd.DataFrame(gender_county['County_Name'])\n",
    "\n",
    "county_Education['Education_Completed_Males'] = census_data['T10_4_TM']\n",
    "county_Education['Education_Completed_Females'] = census_data['T10_4_TF']\n",
    "county_Education['Education_Completed_Both'] = census_data['T10_4_TT']\n",
    "county_Education['Education_InProgress_Males'] = census_data['T10_2_SASM']\n",
    "county_Education['Education_InProgress_Females'] = census_data['T10_2_SASF']\n",
    "county_Education['Education_InProgress_Total'] = census_data['T10_2_SAST']\n",
    "\n",
    "\n",
    "county_Education=county_Education.applymap(prep)\n",
    "\n",
    "county_Education['Education_Completed_Males'] = county_Education['Education_Completed_Males'].astype(int)\n",
    "county_Education['Education_Completed_Females'] = county_Education['Education_Completed_Females'].astype(int)\n",
    "county_Education['Education_Completed_Both'] = county_Education['Education_Completed_Both'].astype(int)\n",
    "county_Education['Education_InProgress_Males'] = county_Education['Education_InProgress_Males'].astype(int)\n",
    "county_Education['Education_InProgress_Females'] = county_Education['Education_InProgress_Females'].astype(int)\n",
    "county_Education['Education_InProgress_Total'] = county_Education['Education_InProgress_Total'].astype(int)\n",
    "\n",
    "\n",
    "county_Education"
   ]
  },
  {
   "cell_type": "markdown",
   "id": "262460a0",
   "metadata": {},
   "source": [
    "<h3> 3.6 &ensp; Independent Variables chosen to represent the Unemployment Count </h3>\n",
    "\n",
    "<p>I have chosen four variables to act as independent variable to predict Unemployment. </p> \n",
    "First is <b>Education Completed per County</b> : Total Number of People who have completed their education in each county. This was chosen because education plays a vital factor in determining if a person can get employed or not.So keeping that in mind, I chose Education Completed as one of the Independent Variable for our model.  <br></br>\n",
    "Second is <b>Education InProgress per County</b> : Total no of people who are still pursuing their education in each county. <br></br>\n",
    "Third is <b> Male Female Ratio Per county </b> : This takes the male female ratio in each county. So it can be related to unemployment as total population is an important factor. <br></br>\n",
    "Fourth one is <b> People in Working Age </b>: Total number of people whose age lies between 16 - 70. Assuming that people below this age will not be the right age to be employed and people above this age would be retired. This was based on my assumption and can be modified to requirement.<br></br>"
   ]
  },
  {
   "cell_type": "markdown",
   "id": "4074bb19",
   "metadata": {},
   "source": [
    "<h4> 3.6.1 &ensp; Checking Normality of the variable Education_Completed_Both  </h4>"
   ]
  },
  {
   "cell_type": "code",
   "execution_count": null,
   "id": "5c418d18",
   "metadata": {},
   "outputs": [],
   "source": [
    "#Describing the feature Education_Completed_Both\n",
    "print(county_Education.Education_Completed_Both.describe())"
   ]
  },
  {
   "cell_type": "code",
   "execution_count": null,
   "id": "e22fc01c",
   "metadata": {},
   "outputs": [],
   "source": [
    "#plotting the distribution using distplot\n",
    "plt.figure()\n",
    "sns.distplot(county_Education.Education_Completed_Both,hist=True,kde=True,bins=10,norm_hist=True)"
   ]
  },
  {
   "cell_type": "markdown",
   "id": "ba8959d2",
   "metadata": {},
   "source": [
    "<p>By looking at the Numerical distribution values, we see that Education completed count has a median value of 83596. But the mean is slightly higher which is having the value 99904. Since the mean value is higher than the median , it is positively skewed.</p>\n",
    "<p>This can be clearly viewed by the plot that is created using seaborn. We can see that the blue line is not present in the center as its mean is greater than the median. Hence it is Positively skewed. We can see that the most of the observation lie within 2,00,000 people.</p> \n",
    "<p>Since the distribution was positively skewed, i did log convert of this distribution in order to obtain a more normal distribution.</p>"
   ]
  },
  {
   "cell_type": "code",
   "execution_count": null,
   "id": "b5523bf5",
   "metadata": {},
   "outputs": [],
   "source": [
    "#using logarithmic method to normalise the Distribution\n",
    "log_Education_Completed_Both= np.log(county_Education.Education_Completed_Both)\n",
    "sns.distplot(log_Education_Completed_Both,hist=True,kde=True,bins=10,norm_hist=True)"
   ]
  },
  {
   "cell_type": "markdown",
   "id": "dc360fe0",
   "metadata": {},
   "source": [
    "<p>After doing the log transformation on the variable, it is more symmetric and is concentrated aroung its median. This distribution is now suitable for our further analysis to determing unemployment count</p> <br></br>"
   ]
  },
  {
   "cell_type": "markdown",
   "id": "61ea9c8d",
   "metadata": {},
   "source": [
    "<h4> 3.6.2 &ensp; Checking Normality of the variable Education_InProgress_Total  </h4>"
   ]
  },
  {
   "cell_type": "code",
   "execution_count": null,
   "id": "4164c62b",
   "metadata": {},
   "outputs": [],
   "source": [
    "#Describing the feature Education_InProgress_Total\n",
    "print(county_Education.Education_InProgress_Total.describe())"
   ]
  },
  {
   "cell_type": "code",
   "execution_count": null,
   "id": "38b30aff",
   "metadata": {},
   "outputs": [],
   "source": [
    "#plotting the distribution using distplot\n",
    "plt.figure()\n",
    "sns.distplot(county_Education.Education_InProgress_Total,hist=True,kde=True,bins=10,norm_hist=True)"
   ]
  },
  {
   "cell_type": "markdown",
   "id": "3a19930d",
   "metadata": {},
   "source": [
    "<p>By looking at the Numerical distribution values, we see that Education in progress count has a median value of 11145. But the mean is slightly higher which is having the value 13778. Since the mean value is higher than the median , it is positively skewed.</p>\n",
    "\n",
    "<p>This can be clearly viewed by the plot that is created using seaborn. We can see that the blue line is not present in the center as its mean is greater than the median. Hence it is Positively skewed. We can see that the most of the observation lie within 2,00,000 people.</p>"
   ]
  },
  {
   "cell_type": "code",
   "execution_count": null,
   "id": "f93626a4",
   "metadata": {},
   "outputs": [],
   "source": [
    "#using logarithmic method to normalise the data\n",
    "log_Education_InProgress_Total= np.log(county_Education.Education_InProgress_Total)\n",
    "sns.distplot(log_Education_InProgress_Total,hist=True,kde=True,bins=10,norm_hist=True)"
   ]
  },
  {
   "cell_type": "markdown",
   "id": "0d62a7c8",
   "metadata": {},
   "source": [
    "<p>After doing the log transformation on the variable, it is more symmetric and is concentrated aroung its median. This distribution is now suitable for our further analysis to determing unemployment count</p> <br></br>"
   ]
  },
  {
   "cell_type": "markdown",
   "id": "e35f435a",
   "metadata": {},
   "source": [
    "<h4> 3.6.2 &ensp; Checking Normality of the variable Male Female Ratio  </h4>"
   ]
  },
  {
   "cell_type": "code",
   "execution_count": null,
   "id": "cb431b65",
   "metadata": {},
   "outputs": [],
   "source": [
    "## Checking the normality of Male Female Ratio from gender_County\n",
    "print(gender_county.Male_Female_Ratio.describe())\n",
    "sns.distplot( gender_county.Male_Female_Ratio,hist=True,kde=True,bins=10,norm_hist=True)"
   ]
  },
  {
   "cell_type": "markdown",
   "id": "8c2c4498",
   "metadata": {},
   "source": [
    "<p>By looking at the Numerical distribution values, we see that Male female ratio median value is almost same as Mean. Hence we can see it is normally distributed since it is a ratio. Looking at the plot as well, we can see that the plot looks to follow normal distribution</p>"
   ]
  },
  {
   "cell_type": "markdown",
   "id": "add7c2ff",
   "metadata": {},
   "source": [
    "<h4> 3.6.2 &ensp; Checking Normality of the variable People_In_Working_Age  </h4>"
   ]
  },
  {
   "cell_type": "code",
   "execution_count": null,
   "id": "69f27869",
   "metadata": {},
   "outputs": [],
   "source": [
    "# Describing the feature People_In_Working_Age\n",
    "People_In_Working_Age= Age_Gender_Distribution['Teenage_Male'] + Age_Gender_Distribution['Youth_Male'] + Age_Gender_Distribution['YoungAdults_Male'] + Age_Gender_Distribution['middle_age_Male'] +Age_Gender_Distribution['Teenage_Female'] + Age_Gender_Distribution['Youth_Female'] + Age_Gender_Distribution['YoungAdults_Female'] + Age_Gender_Distribution['middle_age_Female']\n",
    "print(People_In_Working_Age.describe())"
   ]
  },
  {
   "cell_type": "code",
   "execution_count": null,
   "id": "4af07452",
   "metadata": {},
   "outputs": [],
   "source": [
    "#plotting the distribution using distplot\n",
    "plt.figure()\n",
    "sns.distplot( People_In_Working_Age,hist=True,kde=True,bins=10,norm_hist=True)"
   ]
  },
  {
   "cell_type": "markdown",
   "id": "3d5065bc",
   "metadata": {},
   "source": [
    "<p>By looking at the Numerical distribution values, we see that People in Working Age  has a median value of 86868. But the mean is slightly higher which is having the value 10539. Since the mean value is higher than the median , it is positively skewed.</p>\n",
    "\n",
    "<p>This can be clearly viewed by the plot that is created using seaborn. We can see that the blue line is not present in the center as its mean is greater than the median. Hence it is Positively skewed. We can see that the most of the observation lie within 2,00,000 people.</p>"
   ]
  },
  {
   "cell_type": "code",
   "execution_count": null,
   "id": "6cfecb00",
   "metadata": {},
   "outputs": [],
   "source": [
    "#Making total people in working age as normal distribution\n",
    "log_People_In_Working_Age= np.log(People_In_Working_Age)\n",
    "sns.distplot(log_People_In_Working_Age,hist=True,kde=True,bins=10,norm_hist=True)"
   ]
  },
  {
   "cell_type": "markdown",
   "id": "a4c3c436",
   "metadata": {},
   "source": [
    "<p>After doing the log transformation on the variable, it is more symmetric and is concentrated aroung its median. This distribution is now suitable for our further analysis to determing unemployment count</p> <br></br>"
   ]
  },
  {
   "cell_type": "markdown",
   "id": "61cdd94e",
   "metadata": {},
   "source": [
    "<h3> 3.6 &ensp; Building the Linear Regression model </h3>"
   ]
  },
  {
   "cell_type": "markdown",
   "id": "87d4949c",
   "metadata": {},
   "source": [
    "<h4> 3.6.1 &ensp;  Developing the training set for Linear Regression Model </h4>\n",
    "<br></br>\n",
    "<p> The <i>Training_Data</i> will consist of four feature columns namely <i> Education_Completed_Total, Education_InProgress_Total, Male_Female_Ratio_County, People_In_Working_Age,Total_Unemployed</i>. We will use different evaluation methods to determine the best feature to predict unemployment </p>\n",
    "<br></br>"
   ]
  },
  {
   "cell_type": "code",
   "execution_count": null,
   "id": "bcf6dfe4",
   "metadata": {},
   "outputs": [],
   "source": [
    "########### creating the training set ###########\n",
    "Training_Data = pd.DataFrame(gender_county['County_Name'])\n",
    "Training_Data['Education_Completed_Total'] = log_Education_Completed_Both\n",
    "Training_Data['Education_InProgress_Total'] = log_Education_InProgress_Total\n",
    "Training_Data['Male_Female_Ratio_County'] = gender_county.Male_Female_Ratio\n",
    "Training_Data['People_In_Working_Age'] = log_People_In_Working_Age\n",
    "Training_Data['Total_Unemployed']= unemployment_county['Total_Unemployed']\n",
    "Training_Data"
   ]
  },
  {
   "cell_type": "markdown",
   "id": "f20d0343",
   "metadata": {},
   "source": [
    "<p> We take the training set and split it using <i>train_test_split</i> with 20% as test set. Then we train the regression model with the training set and determing the Intercepts and Coefficient. Using this Model, then we predict for the unknown test set and compare the prediction with the test data. I have created a dataframe <i>df_pred</i> that has the predicted values and the actual values </p>"
   ]
  },
  {
   "cell_type": "code",
   "execution_count": null,
   "id": "915207ce",
   "metadata": {},
   "outputs": [],
   "source": [
    "######################## Building the Model for prediction ########################\n",
    "\n",
    "# creating the training set\n",
    "X= Training_Data[['Education_Completed_Total','Education_InProgress_Total','Male_Female_Ratio_County','People_In_Working_Age']]\n",
    "y= Training_Data['Total_Unemployed']\n",
    "\n",
    "# Train test Split\n",
    "X_train, X_test, y_train, y_test = train_test_split(X, y, test_size=0.2, random_state=0)\n",
    "\n",
    "# MultiplE lINEAR Regression\n",
    "\n",
    "regressor = LinearRegression()\n",
    "regressor.fit(X_train, y_train)\n",
    "\n",
    "#Displaying the coefficients of the Model\n",
    "print('Intercept:', regressor.intercept_)\n",
    "print('Coefficients:', regressor.coef_)\n",
    "\n",
    "#predicting for the disjoin test set\n",
    "y_pred = regressor.predict(X_test)\n",
    "\n",
    "#Creating a dataframe displaying the actual and predicted value for better understandability\n",
    "df_pred= pd.DataFrame({'Actual': y_test, 'Predicted': y_pred})\n",
    "df_pred"
   ]
  },
  {
   "cell_type": "markdown",
   "id": "c1bb4f6d",
   "metadata": {},
   "source": [
    "<p> Linear regression of some dependent variable 𝑦 on the set of independent variables 𝐱 = (𝑥₁, …, 𝑥ᵣ), where 𝑟 is the number of predictors, you assume a linear relationship between 𝑦 and x: <b>𝑦 = 𝛽₀ + 𝛽₁𝑥₁ + ⋯ + 𝛽ᵣ𝑥ᵣ + 𝜀.</b> This equation is the regression equation. 𝛽₀, 𝛽₁, …, 𝛽ᵣ are the <b>regression coefficients</b>. For our training set we have considered 4 variables. Hence we are getting the 4 coefficients value as [-19717.66392867 -12448.5177756   17205.87513803  41761.55083194] and the intercept value as -142260.2 </p>\n",
    "    \n",
    "<p> When we plot the model, we can see that Its not providing an accurate prediction. We can see the model under prediction some of the values and there might be many reasons for this type of behavior. One of the main reason is the high correlation among the features in the training set. </p>\n",
    "\n",
    "<p>The isolation of the link between each independent variable and the dependent variable is a primary goal of regression analysis. When all of the other independent variables are held constant, a regression coefficient represents the mean change in the dependent variable for each 1 unit change in an independent variable.</p>\n",
    "\n",
    "<p> So we need to determine which features are highly correlated and exclude them from the training set to get a better prediction .</p>"
   ]
  },
  {
   "cell_type": "code",
   "execution_count": null,
   "id": "f9c6e4dc",
   "metadata": {},
   "outputs": [],
   "source": [
    "########### Plotting the regression prediction ###########################\n",
    "fig = plt.figure()\n",
    "plt.plot(y_test,y_pred,'kx',color='r')\n",
    "plt.plot(plt.xlim(), plt.ylim(), ls=\"--\")"
   ]
  },
  {
   "cell_type": "markdown",
   "id": "5bff0d14",
   "metadata": {},
   "source": [
    "<p> We can get many parameter of the model when we fit using stat_model.api. We can create the model using <i>sm.OLD</i> and then fit. When we print the summary, we get all kinds of statistical information about the model. </p>"
   ]
  },
  {
   "cell_type": "code",
   "execution_count": null,
   "id": "90428aac",
   "metadata": {},
   "outputs": [],
   "source": [
    "####### Getting the model description using statsmodel api ################\n",
    "\n",
    "X_train.insert(0,'intercept',1)     #To display the intercept\n",
    "mod = sm.OLS(y_train,X_train)\n",
    "res = mod.fit()\n",
    "print(res.summary())"
   ]
  },
  {
   "cell_type": "markdown",
   "id": "89cdc382",
   "metadata": {},
   "source": [
    "<h3> Identifying the correlation between the features </h3>\n",
    "\n",
    "<p> Function <i>remove_collinear_features</i> removes collinear features in a dataframe with a correlation coefficient greater than the threshold. Removing collinear features can help a model to generalize and improves the interpretability of the model. This takes the training set and particular threshold value for the correlation. It then removes the features having correlation greater than the threshold and returns a dataset having independent variable in comparison to threshold. It will display the features that are removed and which have higher correlation value. We took the threshold value as 0.6 for our data </p>"
   ]
  },
  {
   "cell_type": "code",
   "execution_count": null,
   "id": "24456d65",
   "metadata": {},
   "outputs": [],
   "source": [
    "#Function which takes the trainingset and removes the highly correlated features\n",
    "def remove_collinear_features(x, threshold):\n",
    "    # Calculate the correlation matrix\n",
    "    corr_matrix = x.corr()\n",
    "    iters = range(len(corr_matrix.columns) - 1)\n",
    "    drop_cols = []\n",
    "\n",
    "    # Iterate through the matrix and compare correlations\n",
    "    for i in iters:\n",
    "        for j in range(i+1):\n",
    "            item = corr_matrix.iloc[j:(j+1), (i+1):(i+2)]\n",
    "            col = item.columns\n",
    "            row = item.index\n",
    "            val = abs(item.values)\n",
    "\n",
    "            # If correlation exceeds the threshold\n",
    "            if val >= threshold:\n",
    "                # Print the correlated features and the correlation value\n",
    "                print(col.values[0], \"|\", row.values[0], \"|\", round(val[0][0], 2))\n",
    "                drop_cols.append(col.values[0])\n",
    "\n",
    "    # Drop one of each pair of correlated columns\n",
    "    drops = set(drop_cols)\n",
    "    x = x.drop(columns=drops)\n",
    "\n",
    "    return x"
   ]
  },
  {
   "cell_type": "code",
   "execution_count": null,
   "id": "fe6744c1",
   "metadata": {},
   "outputs": [],
   "source": [
    "#Creating a new training set without highly correlated features \n",
    "New_Training_Data=remove_collinear_features(X,0.6)"
   ]
  },
  {
   "cell_type": "markdown",
   "id": "97763b8c",
   "metadata": {},
   "source": [
    "<h4> Observations </h4>\n",
    "<p> We find that Education_InProgress_Total and Education_Completed_Total are having a high correlation score of  0.97. Similarly People_In_Working_Age and Education_Completed_Total fully correlated. People_In_Working_Age and Education_InProgress_Total have a high correlation score of  0.98. These features do not show the independence property. So the new training set is void of these features. It consists of only Male_Female_Ratio_County and Education_Completed_Total. We now should rebuild the model using these new features and check for accuracy. </p>"
   ]
  },
  {
   "cell_type": "code",
   "execution_count": null,
   "id": "ac43851e",
   "metadata": {},
   "outputs": [],
   "source": [
    "#Rebuilding the model with new updated training set\n",
    "\n",
    "X_train, X_test, y_train, y_test = train_test_split(New_Training_Data, y, test_size=0.2, random_state=0)\n",
    "\n",
    "##### MultiplE lINEAR rEGRESSION #########\n",
    "regressor = LinearRegression()\n",
    "regressor.fit(X_train, y_train)\n",
    "print('Intercept:', regressor.intercept_)\n",
    "print('Coefficients:', regressor.coef_)\n",
    "\n",
    "#predicting for the disjoin test set\n",
    "y_pred = regressor.predict(X_test)\n"
   ]
  },
  {
   "cell_type": "code",
   "execution_count": null,
   "id": "c12d97ee",
   "metadata": {},
   "outputs": [],
   "source": [
    "#Plotting the regression model using the two features\n",
    "fig = plt.figure()\n",
    "plt.plot(y_test,y_pred,'kx',color='r')\n",
    "plt.plot(plt.xlim(), plt.ylim(), ls=\"--\")"
   ]
  },
  {
   "cell_type": "markdown",
   "id": "b4782474",
   "metadata": {},
   "source": [
    "<b>Measure the better model,based on AIC score</b>\n",
    "<p>we can see that the model fits better than the previous case. We can say that the model is performing better by having a look at the AIC score of the model. The later model AIC score is lower than that of the earlier model.</p> "
   ]
  },
  {
   "cell_type": "code",
   "execution_count": null,
   "id": "9fdc07ec",
   "metadata": {},
   "outputs": [],
   "source": [
    "#######Model Validation using sm ################\n",
    "\n",
    "X_train.insert(0,'intercept',1)     #To display the intercept\n",
    "mod = sm.OLS(y_train,X_train)\n",
    "res = mod.fit()\n",
    "print(res.summary())"
   ]
  },
  {
   "cell_type": "markdown",
   "id": "b4cb0e01",
   "metadata": {},
   "source": [
    "<b> Verifying The best feature based on P-value </b>\n",
    "<p>If the p-value for a variable is less than your significance level, your sample data provide enough evidence to reject the null hypothesis for the entire population. Your data favor the hypothesis that there is a non-zero correlation. Changes in the independent variable are associated with changes in the dependent variable at the population level. This variable is statistically significant and probably a worthwhile addition to your regression model.On the other hand, a p-value that is greater than the significance level indicates that there is insufficient evidence in your sample to conclude that a non-zero correlation exists.</p>\n",
    "<p> Looking at the above summary we can see that p value for Male_Female_Ratio_County is greater than 5% . Hence it does not add any value for the prediction made by the model. Hence we will consider only Education_Completed_Total</p>"
   ]
  },
  {
   "cell_type": "markdown",
   "id": "a97332aa",
   "metadata": {},
   "source": [
    "<b> Building the model using the best feature</b>"
   ]
  },
  {
   "cell_type": "code",
   "execution_count": null,
   "id": "76b3dabf",
   "metadata": {},
   "outputs": [],
   "source": [
    "Final_Training_Set = Training_Data[['Education_Completed_Total']]\n",
    "X_train, X_test, y_train, y_test = train_test_split(Final_Training_Set, y, test_size=0.2, random_state=0)\n",
    "\n",
    "##### LINEAR rEGRESSION #########\n",
    "regressor = LinearRegression()\n",
    "regressor.fit(X_train, y_train)\n",
    "\n",
    "#predicting for the disjoin test set\n",
    "y_pred = regressor.predict(X_test)\n",
    "\n",
    "#plotting the model\n",
    "fig = plt.figure()\n",
    "plt.plot(y_test,y_pred,'kx',color='r')\n",
    "plt.plot(plt.xlim(), plt.ylim(), ls=\"--\")\n"
   ]
  },
  {
   "cell_type": "code",
   "execution_count": null,
   "id": "84f0825f",
   "metadata": {},
   "outputs": [],
   "source": [
    "#######Model Validation using sm ################\n",
    "\n",
    "X_train.insert(0,'intercept',1)     #To display the intercept\n",
    "mod = sm.OLS(y_train,X_train)\n",
    "res = mod.fit()\n",
    "print(res.summary())\n"
   ]
  },
  {
   "cell_type": "markdown",
   "id": "93d33449",
   "metadata": {},
   "source": [
    "<b> Interpreting the Model </b>\n",
    "<p>By looking at the model we can see that the model is fairly better than the earlier as it has a lower AIC score. Similarly the F-statistic score of 55 % and p value of 0% indicate that there is sufficient evidence to reject the null hypothesis. The adjusted Rsquared value for this model indicates that approximately 70% of the variance of Total_Unemployment was explained by the predictor variables included in the model.</p>"
   ]
  },
  {
   "cell_type": "markdown",
   "id": "b58e14e7",
   "metadata": {},
   "source": [
    "<h3>4  &emsp; CONCLUSIONS</h3>\n",
    "<p> In this project we were trying to determine the best possible predictor variable to predict the unemployement per county. We initially considered four set of variables <i> Education_Completed, Education_In_Progress, Male_Female_Ratio and Total_People_In_Working_Age </i>. By just having a glance at the variable, we feel that this might account for linear relationship with the total unemployment count. But When we try top infer this using various methods, we come to know the true picture. </p>\n",
    "\n",
    "<p> For Linear Regression model , we assume that the predictor variables are normally distributed and independent. If these assumption hold true, then only we can get a meaningfull model. So to verify this, we checked if all the features are normally distributed. But they were not, So we used logarithmic method to make them normally distributed. Them using these New data we tried to find which is the best feature.</p>\n",
    "<p> In this report, I have mainly used two validation methods to determine the feature importance. One is <i>Correlation score </i> and other is <i>P-value score</i>. First I filtered out the features having very high correlation using a user defined function remove_collinear_features for which we defined the threshold as 0.6. All the features which had higher correlation score was removed. High correlation means they are dependent, Hence it violates the Regression Analysis assumption. So we removed <i>Education_InProgress_Total and People_In_Working_Age </i>.</p>\n",
    "\n",
    "<p>Now with the remaining two features, I build the linear regression model and tried to verify the P-score. The P-Value provides probability of the hypothesis test, So in a regression model the P-Value for each independent variable tests the Null Hypothesis that there is “No Correlation” between the independent and the dependent variable,this also helps to determine the relationship observed in the sample also exists in the larger data.So if the P-Value is less than the significance level (usually 0.05) then your model fits the data well. In our case, p-value is less than 0.05 only for <i>Education_Completed</i> which means that the model fits for this feature better than the rest of them. </p>\n",
    "\n",
    "<p> So we can conclude that, The best predictor for Total Unemployment in each county is Education_Completed based on all the factors and we were able to find a linear relationship with the variable.</p> \n",
    "<p>However we can see that, the model accuracy is not perfect. There is some error. This section needs further investigation to determine if the linear regression is the best model fot this dataset. There can be complex models which can provide better results for this dataset. This can be part of the furher research which can be done on the Census Data."
   ]
  }
 ],
 "metadata": {
  "kernelspec": {
   "display_name": "Python 3",
   "language": "python",
   "name": "python3"
  },
  "language_info": {
   "codemirror_mode": {
    "name": "ipython",
    "version": 3
   },
   "file_extension": ".py",
   "mimetype": "text/x-python",
   "name": "python",
   "nbconvert_exporter": "python",
   "pygments_lexer": "ipython3",
   "version": "3.8.8"
  }
 },
 "nbformat": 4,
 "nbformat_minor": 5
}
